{
 "cells": [
  {
   "cell_type": "code",
   "execution_count": 1,
   "metadata": {},
   "outputs": [],
   "source": [
    "import pandas as pd\n",
    "import matplotlib.pyplot as plt\n",
    "import seaborn as sns"
   ]
  },
  {
   "cell_type": "markdown",
   "metadata": {},
   "source": [
    "# Análise de Dados \n",
    "\n",
    "Essa é uma pequena história sobre como a ánalise de dados pode ajudar a entender como funciona o faturamento de um comércio, como contribuir para uma tomada de decisões e como tornar mais competitivo aquele comércio que faz o uso da tecnologia ao seu favor. \n",
    "\n",
    "## Base de dados \n",
    "\n",
    "O comerciante me enviou os dados de venda 2024 de janeiro até o mês de agosto, porém a planilha está com erros valores, valores faltantes e até mesmo a conversão está como arquivo .xlsx porém os seus dados estão em uma estrutura .csv. Para isso vamos tratar os erros desde a conversão correta do tipo do arquivo até que ele esteja pronto para ser analisado.\n",
    "\n",
    "## Objetivo\n",
    "\n",
    "Nosso amigo comerciante pediu para que tratassemos os erros da planilha e pudessemos analisar o seus dados permitindo extrair insights importantes para tomadas de decisões para o seu comércio, nesse projeto vamos aplicar data wrangling, análise de dados, Visualização de Dados e BI."
   ]
  },
  {
   "cell_type": "markdown",
   "metadata": {},
   "source": [
    "# Etapa 1 \n",
    "\n",
    "Converter o arquivo que está em .xslx para .csv\n"
   ]
  },
  {
   "cell_type": "code",
   "execution_count": 4,
   "metadata": {},
   "outputs": [],
   "source": [
    "# Convertend o arquivo tipo .xsls para .csv para manipulaçao e tratamento de dados \n",
    "\n",
    "xslx = pd.read_excel('./DataSet/OnlineSalesData-NaoTratado.xlsx')\n",
    "\n",
    "xslx.to_csv('./DataSet/OnlineSalesData-NaoTratado.csv', index='False', sep=';', encoding='utf-8')\n"
   ]
  },
  {
   "cell_type": "code",
   "execution_count": 6,
   "metadata": {},
   "outputs": [
    {
     "data": {
      "text/html": [
       "<div>\n",
       "<style scoped>\n",
       "    .dataframe tbody tr th:only-of-type {\n",
       "        vertical-align: middle;\n",
       "    }\n",
       "\n",
       "    .dataframe tbody tr th {\n",
       "        vertical-align: top;\n",
       "    }\n",
       "\n",
       "    .dataframe thead th {\n",
       "        text-align: right;\n",
       "    }\n",
       "</style>\n",
       "<table border=\"1\" class=\"dataframe\">\n",
       "  <thead>\n",
       "    <tr style=\"text-align: right;\">\n",
       "      <th></th>\n",
       "      <th>Unnamed: 0</th>\n",
       "      <th>Transaction ID</th>\n",
       "      <th>Date</th>\n",
       "      <th>Product Category</th>\n",
       "      <th>Product Name</th>\n",
       "      <th>Units Sold</th>\n",
       "      <th>Unit Price ($)</th>\n",
       "      <th>Total Revenue ($)</th>\n",
       "      <th>Region</th>\n",
       "      <th>Payment Method</th>\n",
       "    </tr>\n",
       "  </thead>\n",
       "  <tbody>\n",
       "    <tr>\n",
       "      <th>0</th>\n",
       "      <td>0</td>\n",
       "      <td>10001</td>\n",
       "      <td>01e01e2024</td>\n",
       "      <td>Electronics</td>\n",
       "      <td>iPhone 14 Pro</td>\n",
       "      <td>2</td>\n",
       "      <td>999.99</td>\n",
       "      <td>1999.98</td>\n",
       "      <td>North America</td>\n",
       "      <td>Credit Card</td>\n",
       "    </tr>\n",
       "    <tr>\n",
       "      <th>1</th>\n",
       "      <td>1</td>\n",
       "      <td>10002</td>\n",
       "      <td>02e01e2024</td>\n",
       "      <td>Home Appliances</td>\n",
       "      <td>Dyson V11 Vacuum</td>\n",
       "      <td>1</td>\n",
       "      <td>499.99</td>\n",
       "      <td>499.99</td>\n",
       "      <td>Europe</td>\n",
       "      <td>PayPal</td>\n",
       "    </tr>\n",
       "    <tr>\n",
       "      <th>2</th>\n",
       "      <td>2</td>\n",
       "      <td>10003</td>\n",
       "      <td>03e01e2024</td>\n",
       "      <td>Clothing</td>\n",
       "      <td>Levi's 501 Jeans</td>\n",
       "      <td>3</td>\n",
       "      <td>69.99</td>\n",
       "      <td>209.97</td>\n",
       "      <td>Asia</td>\n",
       "      <td>Debit Card</td>\n",
       "    </tr>\n",
       "    <tr>\n",
       "      <th>3</th>\n",
       "      <td>3</td>\n",
       "      <td>10004</td>\n",
       "      <td>04e01e2024</td>\n",
       "      <td>Books</td>\n",
       "      <td>The Da Vinci Code</td>\n",
       "      <td>4</td>\n",
       "      <td>15.99</td>\n",
       "      <td>63.96</td>\n",
       "      <td>North America</td>\n",
       "      <td>Credit Card</td>\n",
       "    </tr>\n",
       "    <tr>\n",
       "      <th>4</th>\n",
       "      <td>4</td>\n",
       "      <td>Null</td>\n",
       "      <td>05e01e2024</td>\n",
       "      <td>Beauty Products</td>\n",
       "      <td>Neutrogena Skincare Set</td>\n",
       "      <td>1</td>\n",
       "      <td>89.99</td>\n",
       "      <td>89.99</td>\n",
       "      <td>Europe</td>\n",
       "      <td>PayPal</td>\n",
       "    </tr>\n",
       "  </tbody>\n",
       "</table>\n",
       "</div>"
      ],
      "text/plain": [
       "   Unnamed: 0 Transaction ID        Date Product Category  \\\n",
       "0           0          10001  01e01e2024      Electronics   \n",
       "1           1          10002  02e01e2024  Home Appliances   \n",
       "2           2          10003  03e01e2024         Clothing   \n",
       "3           3          10004  04e01e2024            Books   \n",
       "4           4           Null  05e01e2024  Beauty Products   \n",
       "\n",
       "              Product Name  Units Sold  Unit Price ($)  Total Revenue ($)  \\\n",
       "0            iPhone 14 Pro           2          999.99            1999.98   \n",
       "1         Dyson V11 Vacuum           1          499.99             499.99   \n",
       "2         Levi's 501 Jeans           3           69.99             209.97   \n",
       "3        The Da Vinci Code           4           15.99              63.96   \n",
       "4  Neutrogena Skincare Set           1           89.99              89.99   \n",
       "\n",
       "          Region Payment Method  \n",
       "0  North America    Credit Card  \n",
       "1         Europe         PayPal  \n",
       "2           Asia     Debit Card  \n",
       "3  North America    Credit Card  \n",
       "4         Europe         PayPal  "
      ]
     },
     "execution_count": 6,
     "metadata": {},
     "output_type": "execute_result"
    }
   ],
   "source": [
    "# Visualizando a tabela em forma de DataFrame pelo Pandas \n",
    "\n",
    "df = pd.read_csv('./DataSet/OnlineSalesData-NaoTratado.csv', sep=';')\n",
    "df.head()"
   ]
  },
  {
   "cell_type": "markdown",
   "metadata": {},
   "source": [
    "# Etapa 2 \n",
    "\n",
    "Agora precisamos tratar os dados, uma impressão rápida que tenho é que tem uma coluna sem referência na tabela e sem nome também. O nome da coluna é 'Unnamed: 0' e ela será removida, depois vamos tratar os dados faltantes e irregulares."
   ]
  },
  {
   "cell_type": "code",
   "execution_count": null,
   "metadata": {},
   "outputs": [],
   "source": [
    "# Removendo a coluna chamada Unnamed: 0 \n",
    "\n",
    "df = df.drop('Unnamed: 0', axis=1)"
   ]
  },
  {
   "cell_type": "code",
   "execution_count": null,
   "metadata": {},
   "outputs": [],
   "source": [
    "# Agora que a coluna foi removida vamos começar a trabalhar com as demais colunas, perceba que ao usar df.head ele pode truncar a visualização dos dados para economizar espaço\n",
    "\n",
    "df.head(n=240)\n"
   ]
  },
  {
   "cell_type": "code",
   "execution_count": null,
   "metadata": {},
   "outputs": [],
   "source": [
    "# Para isso é importante que você possa ter a opção de ver os todos os dados a partir de seguinte configuração\n",
    "\n",
    "# Configurar o pandas para exibir todas as colunas\n",
    "\n",
    "pd.set_option('display.max_columns', None)\n",
    "\n",
    "# Configurar o pandas para exibir todas as linhas\n",
    "\n",
    "pd.set_option('display.max_rows', None)\n",
    "\n",
    "df.head(n=240)"
   ]
  },
  {
   "cell_type": "code",
   "execution_count": null,
   "metadata": {},
   "outputs": [],
   "source": [
    "# Ao analisarmos a tabela agora com mais calma podemos observar que a Coluna ID transaction está com os dados irregulares e apresentando erros, vamos trata-los\n",
    "\n",
    "# Calculando o numero total de linhas\n",
    "\n",
    "num_linhas = len(df)\n",
    "print(num_linhas)\n",
    "\n",
    "# Criando um range para sobreescrever o ID irregulares sem perder os ID originais já identificados\n",
    "\n",
    "ids_novos = range(10001, 10001 + num_linhas)\n",
    "\n",
    "# Atribuir a lista de IDs à coluna 'Transaction ID'\n",
    "\n",
    "df['Transaction ID'] = list(ids_novos)\n",
    "df.head(n=240)\n"
   ]
  },
  {
   "cell_type": "markdown",
   "metadata": {},
   "source": [
    "# Coluna Date\n",
    "\n",
    "Iremos tratar agora a coluna Date para que tenhamos as datas definidas corretamentes, iremos remover a letra \"e\" e por a data no estilo americano"
   ]
  },
  {
   "cell_type": "code",
   "execution_count": null,
   "metadata": {},
   "outputs": [],
   "source": [
    "# Remoção da letra \"e\" e alterando os dados do tipo string para datetime no estilo americano \n",
    "\n",
    "df['Date'] = df['Date'].str.replace('e', '')\n",
    "df['Date'] = pd.to_datetime(df['Date'], format='%d%m%Y').dt.strftime('%m/%d/%Y')\n",
    "df.head()"
   ]
  },
  {
   "cell_type": "markdown",
   "metadata": {},
   "source": [
    "# Colunas Unit Price e Total Revenue\n",
    "\n",
    "As colunas em questão ao serem registrados como valor monetário na tabela, sofreram alterações que impactaram o resultado real do valor das vendas. Nessa etapa precisamos corrigir o valor monetário para dolar e depois transformar o tipo de dado para float. Com isso terminamos a etapa de limpeza e tratamento de dados. Após isso exportaremos o DataFrame para uma planilha .csv"
   ]
  },
  {
   "cell_type": "code",
   "execution_count": null,
   "metadata": {},
   "outputs": [],
   "source": [
    "# Converter as colunas para string antes de remover o símbolo de Real Brasileiro 'R$'\n",
    "\n",
    "df['Unit Price ($)'] = df['Unit Price ($)'].astype(str).str.replace('R$', '')\n",
    "df['Total Revenue ($)'] = df['Total Revenue ($)'].astype(str).str.replace('R$', '')\n",
    "\n",
    "# Converter as colunas limpas para float\n",
    "\n",
    "df['Unit Price ($)'] = df['Unit Price ($)'].astype(float)\n",
    "df['Total Revenue ($)'] = df['Total Revenue ($)'].astype(float)\n"
   ]
  },
  {
   "cell_type": "code",
   "execution_count": null,
   "metadata": {},
   "outputs": [],
   "source": [
    "# Visualizando os dados após o data wrangling \n",
    "\n",
    "df.head()"
   ]
  },
  {
   "cell_type": "code",
   "execution_count": null,
   "metadata": {},
   "outputs": [],
   "source": [
    "# Exportando os dados tratados para uma tabela .csv \n",
    "df.to_csv('./DataSet/OnlineSalesData-Tratado.csv', index=False)"
   ]
  },
  {
   "cell_type": "markdown",
   "metadata": {},
   "source": [
    "# Visualização dos Dados\n",
    "\n",
    "Após o metódo data wrangling, que por sua vez corrigiu tipos de dados corretamente, tratou erros, eliminou valores nulos e adequou a tabela para análise de dados, podemos seguir em frente com a visualização de dados e em seguida com o BI para tomarmos decisões com base nos dados tratados. "
   ]
  },
  {
   "cell_type": "markdown",
   "metadata": {},
   "source": [
    "# Tendências de Vendas ao Longo do Tempo"
   ]
  },
  {
   "cell_type": "code",
   "execution_count": null,
   "metadata": {},
   "outputs": [],
   "source": [
    "# Certifique-se de que a coluna 'Date' é do tipo datetime\n",
    "df['Date'] = pd.to_datetime(df['Date'])\n",
    "\n",
    "# Agora você pode agrupar por mês usando o acessor .dt\n",
    "vendas_tempo = df.groupby(df['Date'].dt.to_period('M')).agg({'Total Revenue ($)':'sum'})\n",
    "\n",
    "# Convertendo o índice para datetime novamente para plotagem\n",
    "vendas_tempo.index = vendas_tempo.index.to_timestamp()\n",
    "\n",
    "# Criando o gráfico de linhas\n",
    "vendas_tempo.plot(kind='line', figsize=(10, 5))\n",
    "plt.title('Tendências de Vendas ao Longo do Tempo')\n",
    "plt.xlabel('Data')\n",
    "plt.ylabel('Receita Total ($)')\n",
    "plt.show()\n"
   ]
  },
  {
   "cell_type": "markdown",
   "metadata": {},
   "source": [
    "# Receita por Categoria de Produto"
   ]
  },
  {
   "cell_type": "code",
   "execution_count": null,
   "metadata": {},
   "outputs": [],
   "source": [
    "# Agrupando os dados por categoria de produto e somando a receita\n",
    "categoria_receita = df.groupby('Product Category')['Total Revenue ($)'].sum()\n",
    "\n",
    "# Criando o gráfico de barras\n",
    "categoria_receita.plot(kind='bar', figsize=(10, 5))\n",
    "plt.title('Receita por Categoria de Produto')\n",
    "plt.xlabel('Categoria de Produto')\n",
    "plt.ylabel('Receita Total ($)')\n",
    "plt.show()"
   ]
  },
  {
   "cell_type": "markdown",
   "metadata": {},
   "source": [
    "# Distribuição de Métodos de Pagamento"
   ]
  },
  {
   "cell_type": "code",
   "execution_count": null,
   "metadata": {},
   "outputs": [],
   "source": [
    "# Contando a frequência de cada método de pagamento\n",
    "metodos_pagamento = df['Payment Method'].value_counts()\n",
    "\n",
    "# Criando o gráfico de pizza\n",
    "metodos_pagamento.plot(kind='pie', autopct='%1.1f%%', figsize=(7, 7))\n",
    "plt.title('Distribuição de Métodos de Pagamento')\n",
    "plt.ylabel('')\n",
    "plt.show()"
   ]
  },
  {
   "cell_type": "markdown",
   "metadata": {},
   "source": [
    "# Vendas por Região"
   ]
  },
  {
   "cell_type": "code",
   "execution_count": null,
   "metadata": {},
   "outputs": [],
   "source": [
    "# Agrupando os dados por região e somando a receita\n",
    "vendas_regiao = df.groupby('Region')['Total Revenue ($)'].sum()\n",
    "\n",
    "# Criando o gráfico de barras\n",
    "vendas_regiao.plot(kind='bar', figsize=(10, 5))\n",
    "plt.title('Vendas por Região')\n",
    "plt.xlabel('Região')\n",
    "plt.ylabel('Receita Total ($)')\n",
    "plt.show()"
   ]
  },
  {
   "cell_type": "markdown",
   "metadata": {},
   "source": [
    "# Performance top 10 Produtos Individuais mais vendidos"
   ]
  },
  {
   "cell_type": "code",
   "execution_count": null,
   "metadata": {},
   "outputs": [],
   "source": [
    "# Calculando a receita total por produto\n",
    "df['Total Revenue ($)'] = df['Units Sold'] * df['Unit Price ($)']\n",
    "\n",
    "# Agrupando os dados por nome do produto e somando a receita total\n",
    "produtos_rentaveis = df.groupby('Product Name')['Total Revenue ($)'].sum().sort_values(ascending=False)\n",
    "\n",
    "# Pegando os 10 produtos mais rentáveis\n",
    "top_10_rentaveis = produtos_rentaveis.head(10)\n",
    "\n",
    "# Criando o gráfico de barras\n",
    "top_10_rentaveis.plot(kind='bar', figsize=(10, 5))\n",
    "plt.title('Top 10 Produtos Mais Rentáveis')\n",
    "plt.xlabel('Nome do Produto')\n",
    "plt.ylabel('Receita Total ($)')\n",
    "plt.show()"
   ]
  },
  {
   "cell_type": "markdown",
   "metadata": {},
   "source": [
    "# Top 10 produtos com maior valor de vendas agregado"
   ]
  },
  {
   "cell_type": "code",
   "execution_count": null,
   "metadata": {},
   "outputs": [],
   "source": [
    "# Agrupando os dados por região e nome do produto, e somando o valor agregado do produto\n",
    "produtos_vendidos_regiao = df.groupby(['Region', 'Product Name'])['Total Revenue ($)'].sum().reset_index()\n",
    "\n",
    "# Criando um DataFrame para armazenar os top 10 produtos mais vendidos por região por valor agregado\n",
    "top_produtos_regiao = pd.DataFrame()\n",
    "\n",
    "for regiao in produtos_vendidos_regiao['Region'].unique():\n",
    "    top_produtos = produtos_vendidos_regiao[produtos_vendidos_regiao['Region'] == regiao].sort_values(by='Total Revenue ($)', ascending=False).head(10)\n",
    "    top_produtos_regiao = pd.concat([top_produtos_regiao, top_produtos])\n",
    "\n",
    "# Pivotando os dados para melhor visualização\n",
    "pivot_top_produtos_regiao = top_produtos_regiao.pivot(index='Product Name', columns='Region', values='Total Revenue ($)').fillna(0)\n",
    "\n",
    "# Criando o gráfico de barras para cada região\n",
    "for regiao in pivot_top_produtos_regiao.columns:\n",
    "    pivot_top_produtos_regiao[regiao].sort_values().plot(kind='barh', figsize=(10, 5))\n",
    "    plt.title(f'Top 10 Produtos Mais Vendidos em {regiao}')\n",
    "    plt.xlabel('Quantidade Vendida')\n",
    "    plt.ylabel('Nome do Produto')\n",
    "    plt.show()"
   ]
  },
  {
   "cell_type": "markdown",
   "metadata": {},
   "source": [
    "# Análise de Dados\n",
    "\n",
    "##  “Tendências de Vendas ao Longo do Tempo”\n",
    "\n",
    "Analisando o gráfico “Tendências de Vendas ao Longo do Tempo”, observamos um padrão distinto nas vendas da empresa ao longo dos meses de janeiro a agosto de 2024. O início do ano mostra um pico significativo em janeiro, indicando um forte desempenho de vendas, possivelmente impulsionado por promoções de Ano Novo ou pela demanda acumulada do período de festas.\n",
    "\n",
    "No entanto, há uma queda notável em fevereiro, que se aprofunda drasticamente em março. Este declínio pode ser atribuído a vários fatores, como a sazonalidade do mercado ou o esgotamento do impulso das vendas pós-férias. A tendência decrescente continua até maio, sugerindo a necessidade de uma análise mais aprofundada para identificar as causas subjacentes — seja uma mudança no comportamento do consumidor, aumento da concorrência ou outros fatores externos.\n",
    "\n",
    "Junho marca o ponto mais baixo das vendas, o que pode ser uma oportunidade para a empresa revisar suas estratégias de marketing e vendas. A recuperação modesta em julho e agosto indica que as ações corretivas podem estar começando a surtir efeito, mas ainda há um longo caminho a percorrer para retornar aos números de janeiro.\n",
    "\n",
    "Recomendações:\n",
    "\n",
    "Investigar as causas do declínio nas vendas entre fevereiro e junho.\n",
    "Avaliar a eficácia das campanhas de marketing e promoções atuais.\n",
    "Considerar estratégias de diversificação de produtos ou mercados para mitigar a sazonalidade.\n",
    "Monitorar de perto a recuperação nas vendas nos meses de verão para garantir que o crescimento seja sustentável.\n",
    "Esta análise inicial destaca a importância de entender as tendências de vendas e estar preparado para adaptar as estratégias de negócios conforme necessário. Estou à disposição para analisar os próximos gráficos e fornecer mais insights.\n",
    "\n"
   ]
  },
  {
   "cell_type": "markdown",
   "metadata": {},
   "source": [
    "## Vendas por região \n",
    "\n",
    "Analisando o gráfico “Receita por Categoria de Produto”, podemos observar claramente que a categoria Electronics se destaca como a mais lucrativa, gerando a maior receita entre todas as categorias listadas. Isso sugere uma forte demanda do mercado ou uma margem de lucro significativa nessa categoria, o que pode ser resultado de lançamentos de novos produtos, inovações tecnológicas ou uma estratégia de preços bem-sucedida.\n",
    "\n",
    "As categorias Home Appliances e Beauty Products também mostram um bom desempenho, indicando que esses segmentos são áreas importantes para o negócio. Por outro lado, as categorias Books, Clothing e Sports apresentam uma receita menor, o que pode indicar uma saturação no mercado, uma competição mais acirrada ou uma necessidade de revisão na estratégia de vendas para esses produtos.\n",
    "\n",
    "Recomendações:\n",
    "\n",
    "Focar em estratégias de expansão para a categoria de Electronics, explorando novos mercados ou segmentos de clientes.\n",
    "Analisar as operações e estratégias de marketing para as categorias Home Appliances e Beauty Products para continuar o crescimento.\n",
    "Reavaliar a abordagem de mercado para as categorias Books, Clothing e Sports, buscando inovações ou parcerias estratégicas que possam impulsionar as vendas.\n",
    "Considerar pesquisas de mercado para entender melhor as preferências dos consumidores e ajustar o portfólio de produtos conforme necessário.\n",
    "Essa análise de receita por categoria é fundamental para entender onde concentrar esforços e recursos para maximizar o retorno sobre o investimento. Estou à disposição para continuar a análise com as próximas imagens."
   ]
  },
  {
   "cell_type": "markdown",
   "metadata": {},
   "source": [
    "## Top 10 produtos mais rentáveis\n",
    "\n",
    "Analisando o gráfico “Top 10 Produtos Mais Rentáveis”, vemos que a Canon EOS R5 Camera lidera o ranking, indicando uma alta lucratividade, provavelmente devido a uma combinação de preço elevado e boa quantidade de vendas. Produtos tecnológicos como MacBook Pro 16-inch, iPhone 14 Pro, e LG OLED TV também estão entre os mais rentáveis, o que reforça a tendência de que dispositivos eletrônicos de alto valor agregado são significativos geradores de receita para a empresa.\n",
    "\n",
    "Produtos como Peloton Bike, Roomba i7+, e Garmin Forerunner 945 destacam-se também, sugerindo que há um mercado robusto para produtos de estilo de vida e fitness de alta gama. A presença de um monitor de jogos da Samsung indica que o segmento de gaming é outro contribuidor importante para a rentabilidade.\n",
    "\n",
    "Recomendações:\n",
    "\n",
    "Manter o foco em produtos de tecnologia de alto valor, pois eles continuam a ser os mais rentáveis.\n",
    "Explorar oportunidades de cross-selling e upselling com acessórios e serviços relacionados aos produtos top de linha.\n",
    "Investir em marketing e promoções para os produtos de estilo de vida e fitness, aproveitando o interesse crescente nesse segmento.\n",
    "Monitorar as tendências do mercado de gaming, considerando a expansão do portfólio de produtos para atender à demanda dos consumidores.\n",
    "Esses insights são cruciais para direcionar as estratégias de produto e marketing da empresa, visando maximizar a rentabilidade. Aguardo as próximas imagens para continuar a análise."
   ]
  },
  {
   "cell_type": "markdown",
   "metadata": {},
   "source": [
    "## Top 10 Produtos Mais Vendidos em cada Região \n",
    "\n",
    "### Ásia \n",
    "\n",
    "Analisando o gráfico “Top 10 Produtos Mais Vendidos em Asia”, notamos uma variedade interessante de produtos que capturaram a atenção do mercado asiático. Produtos de tecnologia e fitness, como Peloton Bike, Garmin Fenix 6X Pro, e Fitbit Versa 3, estão entre os mais vendidos, o que pode refletir um crescente interesse por saúde e bem-estar na região.\n",
    "\n",
    "Além disso, itens como Babolat Pure Drive Tennis Racket e Nike Air Force 1 mostram uma forte presença no mercado de esportes e moda, respectivamente. A diversidade dos produtos mais vendidos sugere que os consumidores asiáticos têm um amplo leque de interesses, desde tecnologia até fitness e moda.\n",
    "\n",
    "Recomendações:\n",
    "\n",
    "Capitalizar sobre a tendência de fitness e saúde, expandindo a linha de produtos relacionados e explorando parcerias com influenciadores nesse nicho.\n",
    "Aumentar o investimento em marketing digital para produtos de tecnologia, aproveitando a alta conectividade e adoção de dispositivos móveis na Ásia.\n",
    "Desenvolver campanhas de marketing localizadas que ressoem com os interesses culturais e estilos de vida dos consumidores asiáticos.\n",
    "Monitorar de perto as mudanças nas preferências dos consumidores, adaptando rapidamente o portfólio de produtos para atender às demandas emergentes.\n",
    "\n",
    "\n",
    "\n",
    "### Europe \n",
    "\n",
    "Analisando o gráfico “Top 10 Produtos Mais Vendidos na Europa”, percebemos que os produtos de tecnologia e eletrodomésticos dominam as vendas. Produtos como LG OLED TV, Roomba i7+, e iPhone 14 Pro estão entre os mais vendidos, o que reflete a alta demanda por dispositivos eletrônicos e gadgets inteligentes na Europa. A presença de itens como Dyson Supersonic Hair Dryer e De’Longhi Magnifica Espresso Machine sugere que os consumidores europeus também valorizam produtos de alta qualidade para uso pessoal e doméstico.\n",
    "\n",
    "Recomendações:\n",
    "\n",
    "Continuar investindo em produtos de tecnologia e eletrodomésticos, pois eles têm um desempenho forte no mercado europeu.\n",
    "Desenvolver campanhas de marketing que enfatizem a qualidade, durabilidade e inovação tecnológica dos produtos.\n",
    "Explorar parcerias com marcas de luxo europeias para produtos de uso pessoal, aproveitando a preferência dos consumidores por itens premium.\n",
    "Avaliar a possibilidade de expandir a linha de produtos para casa inteligente, dada a popularidade de itens como aspiradores de pó robóticos e monitores de jogos.\n",
    "\n",
    "\n",
    "### North America\n",
    "\n",
    "Analisando o gráfico “Top 10 Produtos Mais Vendidos em North America”, vemos que a Canon EOS R5 Camera está no topo da lista, o que indica uma forte demanda por equipamentos fotográficos de alta qualidade na América do Norte. O MacBook Pro 16-inch e o iPhone 14 Pro também estão entre os mais vendidos, reforçando a popularidade dos produtos da Apple na região.\n",
    "\n",
    "Produtos como HP Spectre x360 Laptop, Samsung Galaxy Tab S8, e Microsoft Surface Laptop 4 mostram que há um mercado significativo para dispositivos móveis e computadores pessoais de alto desempenho. A presença de eletrodomésticos como Roomba i7+ e Dyson Supersonic Hair Dryer sugere que os consumidores estão investindo em conveniência e produtos de cuidados pessoais premium.\n",
    "\n",
    "Recomendações para a diretoria:\n",
    "\n",
    "Fortalecer a presença no segmento de tecnologia, especialmente com produtos de marcas reconhecidas como Apple e Samsung.\n",
    "Explorar o mercado de fotografia com mais opções de câmeras e acessórios, dada a liderança da Canon EOS R5 Camera.\n",
    "Considerar o desenvolvimento de pacotes e ofertas que combinem dispositivos móveis e acessórios para atrair consumidores que buscam uma experiência integrada.\n",
    "Avaliar a expansão da linha de produtos para casa inteligente, já que itens como aspiradores robóticos estão se mostrando populares.\n",
    "\n"
   ]
  }
 ],
 "metadata": {
  "kernelspec": {
   "display_name": ".venv",
   "language": "python",
   "name": "python3"
  },
  "language_info": {
   "codemirror_mode": {
    "name": "ipython",
    "version": 3
   },
   "file_extension": ".py",
   "mimetype": "text/x-python",
   "name": "python",
   "nbconvert_exporter": "python",
   "pygments_lexer": "ipython3",
   "version": "3.12.4"
  }
 },
 "nbformat": 4,
 "nbformat_minor": 2
}
